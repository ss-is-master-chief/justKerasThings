{
 "cells": [
  {
   "cell_type": "code",
   "execution_count": 1,
   "metadata": {
    "ExecuteTime": {
     "end_time": "2018-12-26T04:57:29.834040Z",
     "start_time": "2018-12-26T04:57:29.830825Z"
    }
   },
   "outputs": [],
   "source": [
    "from keras.datasets import imdb"
   ]
  },
  {
   "cell_type": "code",
   "execution_count": 3,
   "metadata": {
    "ExecuteTime": {
     "end_time": "2018-12-26T04:59:43.483181Z",
     "start_time": "2018-12-26T04:59:18.652557Z"
    }
   },
   "outputs": [
    {
     "name": "stdout",
     "output_type": "stream",
     "text": [
      "Downloading data from https://s3.amazonaws.com/text-datasets/imdb.npz\n",
      "17465344/17464789 [==============================] - 19s 1us/step\n"
     ]
    }
   ],
   "source": [
    "(x_train, y_train), (x_test, y_test) = imdb.load_data(num_words=10000)"
   ]
  },
  {
   "cell_type": "code",
   "execution_count": 4,
   "metadata": {
    "ExecuteTime": {
     "end_time": "2018-12-26T04:59:51.111978Z",
     "start_time": "2018-12-26T04:59:51.100000Z"
    }
   },
   "outputs": [
    {
     "data": {
      "text/plain": [
       "(25000,)"
      ]
     },
     "execution_count": 4,
     "metadata": {},
     "output_type": "execute_result"
    }
   ],
   "source": [
    "x_train.shape"
   ]
  },
  {
   "cell_type": "code",
   "execution_count": 5,
   "metadata": {
    "ExecuteTime": {
     "end_time": "2018-12-26T04:59:56.145458Z",
     "start_time": "2018-12-26T04:59:56.138518Z"
    }
   },
   "outputs": [
    {
     "data": {
      "text/plain": [
       "(25000,)"
      ]
     },
     "execution_count": 5,
     "metadata": {},
     "output_type": "execute_result"
    }
   ],
   "source": [
    "y_train.shape"
   ]
  },
  {
   "cell_type": "code",
   "execution_count": 6,
   "metadata": {
    "ExecuteTime": {
     "end_time": "2018-12-26T05:00:03.655819Z",
     "start_time": "2018-12-26T05:00:03.650043Z"
    }
   },
   "outputs": [
    {
     "data": {
      "text/plain": [
       "(25000,)"
      ]
     },
     "execution_count": 6,
     "metadata": {},
     "output_type": "execute_result"
    }
   ],
   "source": [
    "x_test.shape"
   ]
  },
  {
   "cell_type": "code",
   "execution_count": 7,
   "metadata": {
    "ExecuteTime": {
     "end_time": "2018-12-26T05:00:08.642437Z",
     "start_time": "2018-12-26T05:00:08.636636Z"
    }
   },
   "outputs": [
    {
     "data": {
      "text/plain": [
       "(25000,)"
      ]
     },
     "execution_count": 7,
     "metadata": {},
     "output_type": "execute_result"
    }
   ],
   "source": [
    "y_test.shape"
   ]
  },
  {
   "cell_type": "code",
   "execution_count": 10,
   "metadata": {
    "ExecuteTime": {
     "end_time": "2018-12-26T05:05:09.966813Z",
     "start_time": "2018-12-26T05:05:07.313819Z"
    }
   },
   "outputs": [],
   "source": [
    "def vectorize(sequence, dim=10000):\n",
    "    results = np.zeros((len(sequence), dim))\n",
    "    for i, sequence in enumerate(sequence):\n",
    "        results[i, sequence] = 1\n",
    "    return results\n",
    "x_train = vectorize(x_train)\n",
    "x_test = vectorize(x_test)\n",
    "y_train = np.asarray(y_train).astype('float32')\n",
    "y_test = np.asarray(y_test).astype('float32')"
   ]
  },
  {
   "cell_type": "code",
   "execution_count": 11,
   "metadata": {
    "ExecuteTime": {
     "end_time": "2018-12-26T05:05:15.738258Z",
     "start_time": "2018-12-26T05:05:15.732511Z"
    }
   },
   "outputs": [
    {
     "data": {
      "text/plain": [
       "array([0., 1., 1., ..., 0., 0., 0.])"
      ]
     },
     "execution_count": 11,
     "metadata": {},
     "output_type": "execute_result"
    }
   ],
   "source": [
    "x_train[0]"
   ]
  },
  {
   "cell_type": "code",
   "execution_count": 13,
   "metadata": {
    "ExecuteTime": {
     "end_time": "2018-12-26T05:08:19.744694Z",
     "start_time": "2018-12-26T05:08:19.673553Z"
    }
   },
   "outputs": [],
   "source": [
    "from keras import models\n",
    "from keras import layers\n",
    "\n",
    "model = models.Sequential()\n",
    "model.add(layers.Dense(16, activation=\"relu\", input_shape=(10000,)))\n",
    "model.add(layers.Dense(16, activation=\"relu\"))\n",
    "model.add(layers.Dense(1, activation=\"sigmoid\"))"
   ]
  },
  {
   "cell_type": "code",
   "execution_count": 14,
   "metadata": {
    "ExecuteTime": {
     "end_time": "2018-12-26T05:17:50.555919Z",
     "start_time": "2018-12-26T05:17:50.489169Z"
    }
   },
   "outputs": [],
   "source": [
    "model.compile(optimizer=\"rmsprop\",\n",
    "             loss=\"binary_crossentropy\",\n",
    "             metrics=[\"accuracy\"])"
   ]
  },
  {
   "cell_type": "code",
   "execution_count": 15,
   "metadata": {
    "ExecuteTime": {
     "end_time": "2018-12-26T05:19:12.703410Z",
     "start_time": "2018-12-26T05:19:12.697534Z"
    }
   },
   "outputs": [
    {
     "data": {
      "text/plain": [
       "(25000, 10000)"
      ]
     },
     "execution_count": 15,
     "metadata": {},
     "output_type": "execute_result"
    }
   ],
   "source": [
    "x_train.shape"
   ]
  },
  {
   "cell_type": "code",
   "execution_count": 16,
   "metadata": {
    "ExecuteTime": {
     "end_time": "2018-12-26T05:20:22.397328Z",
     "start_time": "2018-12-26T05:20:22.392817Z"
    }
   },
   "outputs": [],
   "source": [
    "x_val = x_train[:10000]\n",
    "part_x_train = x_train[10000:]\n",
    "y_val = y_train[:10000]\n",
    "part_y_train = y_train[10000:]"
   ]
  },
  {
   "cell_type": "code",
   "execution_count": 24,
   "metadata": {
    "ExecuteTime": {
     "end_time": "2018-12-26T05:22:32.029500Z",
     "start_time": "2018-12-26T05:22:15.868923Z"
    }
   },
   "outputs": [
    {
     "name": "stdout",
     "output_type": "stream",
     "text": [
      "Train on 15000 samples, validate on 10000 samples\n",
      "Epoch 1/10\n",
      "15000/15000 [==============================] - 2s 120us/step - loss: 0.1854 - acc: 0.9338 - val_loss: 0.2905 - val_acc: 0.8815\n",
      "Epoch 2/10\n",
      "15000/15000 [==============================] - 2s 127us/step - loss: 0.1669 - acc: 0.9420 - val_loss: 0.2798 - val_acc: 0.8884\n",
      "Epoch 3/10\n",
      "15000/15000 [==============================] - 2s 106us/step - loss: 0.1384 - acc: 0.9539 - val_loss: 0.3493 - val_acc: 0.8647\n",
      "Epoch 4/10\n",
      "15000/15000 [==============================] - 1s 91us/step - loss: 0.1199 - acc: 0.9615 - val_loss: 0.3023 - val_acc: 0.8830\n",
      "Epoch 5/10\n",
      "15000/15000 [==============================] - 2s 112us/step - loss: 0.1018 - acc: 0.9683 - val_loss: 0.3386 - val_acc: 0.8792\n",
      "Epoch 6/10\n",
      "15000/15000 [==============================] - 1s 91us/step - loss: 0.0840 - acc: 0.9756 - val_loss: 0.3509 - val_acc: 0.8794\n",
      "Epoch 7/10\n",
      "15000/15000 [==============================] - 2s 126us/step - loss: 0.0703 - acc: 0.9807 - val_loss: 0.3583 - val_acc: 0.8824\n",
      "Epoch 8/10\n",
      "15000/15000 [==============================] - 1s 95us/step - loss: 0.0584 - acc: 0.9855 - val_loss: 0.3805 - val_acc: 0.8803\n",
      "Epoch 9/10\n",
      "15000/15000 [==============================] - 2s 116us/step - loss: 0.0473 - acc: 0.9883 - val_loss: 0.4034 - val_acc: 0.8775\n",
      "Epoch 10/10\n",
      "15000/15000 [==============================] - 1s 92us/step - loss: 0.0373 - acc: 0.9925 - val_loss: 0.4847 - val_acc: 0.8698\n"
     ]
    }
   ],
   "source": [
    "hist = model.fit(part_x_train, part_y_train, epochs=10, batch_size=512, validation_data=(x_val, y_val))"
   ]
  },
  {
   "cell_type": "code",
   "execution_count": 27,
   "metadata": {
    "ExecuteTime": {
     "end_time": "2018-12-26T05:23:09.303995Z",
     "start_time": "2018-12-26T05:23:09.297064Z"
    }
   },
   "outputs": [
    {
     "data": {
      "text/plain": [
       "dict_keys(['val_loss', 'val_acc', 'loss', 'acc'])"
      ]
     },
     "execution_count": 27,
     "metadata": {},
     "output_type": "execute_result"
    }
   ],
   "source": [
    "history_dict = hist.history\n",
    "history_dict.keys()"
   ]
  },
  {
   "cell_type": "code",
   "execution_count": 29,
   "metadata": {
    "ExecuteTime": {
     "end_time": "2018-12-26T05:24:29.512503Z",
     "start_time": "2018-12-26T05:24:29.319456Z"
    }
   },
   "outputs": [
    {
     "data": {
      "image/png": "[encoded data removed]",
      "text/plain": [
       "<matplotlib.figure.Figure at 0xb2ed08c18>"
      ]
     },
     "metadata": {
      "needs_background": "light"
     },
     "output_type": "display_data"
    }
   ],
   "source": [
    "import matplotlib.pyplot as plt\n",
    "\n",
    "acc = hist.history['acc'] \n",
    "val_acc = hist.history['val_acc'] \n",
    "loss = hist.history['loss'] \n",
    "val_loss = hist.history['val_loss']\n",
    "\n",
    "epochs = range(1, len(acc) + 1)\n",
    "\n",
    "# \"bo\" is for \"blue dot\" \n",
    "plt.plot(epochs, loss, 'bo', label='Training loss') # b is for \"solid blue line\" \n",
    "plt.plot(epochs, val_loss, 'b', label='Validation loss') \n",
    "plt.title('Training and validation loss') \n",
    "plt.xlabel('Epochs') \n",
    "plt.ylabel('Loss') \n",
    "plt.legend()\n",
    "\n",
    "plt.show()"
   ]
  },
  {
   "cell_type": "code",
   "execution_count": 30,
   "metadata": {
    "ExecuteTime": {
     "end_time": "2018-12-26T05:24:54.628321Z",
     "start_time": "2018-12-26T05:24:52.400175Z"
    }
   },
   "outputs": [
    {
     "data": {
      "text/plain": [
       "array([[0.0641195 ],\n",
       "       [1.        ],\n",
       "       [0.99871886],\n",
       "       ...,\n",
       "       [0.12141333],\n",
       "       [0.11642601],\n",
       "       [0.8598667 ]], dtype=float32)"
      ]
     },
     "execution_count": 30,
     "metadata": {},
     "output_type": "execute_result"
    }
   ],
   "source": [
    "model.predict(x_test)"
   ]
  },
  {
   "cell_type": "code",
   "execution_count": null,
   "metadata": {},
   "outputs": [],
   "source": []
  }
 ],
 "metadata": {
  "kernelspec": {
   "display_name": "Python 3",
   "language": "python",
   "name": "python3"
  },
  "language_info": {
   "codemirror_mode": {
    "name": "ipython",
    "version": 3
   },
   "file_extension": ".py",
   "mimetype": "text/x-python",
   "name": "python",
   "nbconvert_exporter": "python",
   "pygments_lexer": "ipython3",
   "version": "3.6.7"
  },
  "toc": {
   "base_numbering": 1,
   "nav_menu": {},
   "number_sections": true,
   "sideBar": true,
   "skip_h1_title": false,
   "title_cell": "Table of Contents",
   "title_sidebar": "Contents",
   "toc_cell": false,
   "toc_position": {},
   "toc_section_display": true,
   "toc_window_display": false
  },
  "varInspector": {
   "cols": {
    "lenName": 16,
    "lenType": 16,
    "lenVar": 40
   },
   "kernels_config": {
    "python": {
     "delete_cmd_postfix": "",
     "delete_cmd_prefix": "del ",
     "library": "var_list.py",
     "varRefreshCmd": "print(var_dic_list())"
    },
    "r": {
     "delete_cmd_postfix": ") ",
     "delete_cmd_prefix": "rm(",
     "library": "var_list.r",
     "varRefreshCmd": "cat(var_dic_list()) "
    }
   },
   "types_to_exclude": [
    "module",
    "function",
    "builtin_function_or_method",
    "instance",
    "_Feature"
   ],
   "window_display": false
  }
 },
 "nbformat": 4,
 "nbformat_minor": 2
}
